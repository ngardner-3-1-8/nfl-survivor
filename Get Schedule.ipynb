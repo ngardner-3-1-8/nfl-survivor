{
 "cells": [
  {
   "cell_type": "code",
   "execution_count": 1,
   "id": "0ab1a85a-e83b-4f0d-99a9-b8bebd57cb9d",
   "metadata": {
    "tags": []
   },
   "outputs": [
    {
     "ename": "ModuleNotFoundError",
     "evalue": "No module named 'streamlit'",
     "output_type": "error",
     "traceback": [
      "\u001b[1;31m---------------------------------------------------------------------------\u001b[0m",
      "\u001b[1;31mModuleNotFoundError\u001b[0m                       Traceback (most recent call last)",
      "Cell \u001b[1;32mIn[1], line 1\u001b[0m\n\u001b[1;32m----> 1\u001b[0m \u001b[38;5;28;01mimport\u001b[39;00m \u001b[38;5;21;01mstreamlit\u001b[39;00m \u001b[38;5;28;01mas\u001b[39;00m \u001b[38;5;21;01mst\u001b[39;00m\n\u001b[0;32m      2\u001b[0m \u001b[38;5;28;01mimport\u001b[39;00m \u001b[38;5;21;01mrequests\u001b[39;00m\n\u001b[0;32m      3\u001b[0m \u001b[38;5;28;01mfrom\u001b[39;00m \u001b[38;5;21;01mbs4\u001b[39;00m \u001b[38;5;28;01mimport\u001b[39;00m BeautifulSoup\n",
      "\u001b[1;31mModuleNotFoundError\u001b[0m: No module named 'streamlit'"
     ]
    }
   ],
   "source": [
    "import streamlit as st\n",
    "import requests\n",
    "from bs4 import BeautifulSoup\n",
    "\n",
    "def get_schedule():\n",
    "    print(\"Gathering Schedule Data...\")\n",
    "    # Make a request to the website\n",
    "    r = requests.get('https://www.fftoday.com/nfl/schedule.php')\n",
    "    r_html = r.text\n",
    "\n",
    "    # Create a BeautifulSoup object and specify the parser\n",
    "    soup = BeautifulSoup(r_html, 'html.parser')\n",
    "\n",
    "    # Find the table in the HTML\n",
    "    table = soup.find('table', attrs={'width': '80%', 'border': '0', 'cellpadding': '0', 'cellspacing': '0'})\n",
    "\n",
    "    # Find all rows in the table with a white background\n",
    "    rows = table.find_all('tr', attrs={'bgcolor': '#ffffff'})\n",
    "    print(\"Schedule Data Retrieved\")\n",
    "    return table, rows\n",
    "\n",
    "\n",
    "st.title(\"NFL Schedule Viewer\")\n",
    "\n",
    "if st.button(\"Get Schedule\"):\n",
    "    table, rows = get_schedule() # Call the function\n",
    "    \n",
    "    if table:\n",
    "        st.write(\"Schedule Table (HTML):\")\n",
    "        st.markdown(str(table), unsafe_allow_html=True) #Display table as HTML\n",
    "    else:\n",
    "         st.write(\"Error. Could not find the table.\")\n",
    "         \n",
    "    if rows:\n",
    "        st.write(f\"Number of Schedule Rows: {len(rows)}\") #Display row length\n",
    "    else:\n",
    "         st.write(\"Error. Could not find the rows\")"
   ]
  },
  {
   "cell_type": "code",
   "execution_count": null,
   "id": "adc35a5f-2f68-4ac6-99ea-b197257ba57f",
   "metadata": {},
   "outputs": [],
   "source": []
  }
 ],
 "metadata": {
  "kernelspec": {
   "display_name": "Python 3 (ipykernel)",
   "language": "python",
   "name": "python3"
  },
  "language_info": {
   "codemirror_mode": {
    "name": "ipython",
    "version": 3
   },
   "file_extension": ".py",
   "mimetype": "text/x-python",
   "name": "python",
   "nbconvert_exporter": "python",
   "pygments_lexer": "ipython3",
   "version": "3.11.5"
  }
 },
 "nbformat": 4,
 "nbformat_minor": 5
}
